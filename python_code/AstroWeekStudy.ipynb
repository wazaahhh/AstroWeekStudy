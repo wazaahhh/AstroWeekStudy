{
 "metadata": {
  "name": "",
  "signature": "sha256:74ea0d899fe8af16383dbceb1a6dbb14800495176404440dcc38ab808bbadbe6"
 },
 "nbformat": 3,
 "nbformat_minor": 0,
 "worksheets": [
  {
   "cells": [
    {
     "cell_type": "markdown",
     "metadata": {},
     "source": [
      "### 1. Loading Some Modules and Functions"
     ]
    },
    {
     "cell_type": "code",
     "collapsed": false,
     "input": [
      "import numpy as np\n",
      "import pylab as pl\n",
      "import json\n",
      "import pandas\n",
      "dir = \"/home/ubuntu/github/AstroWeekStudy/python_code/data/\""
     ],
     "language": "python",
     "metadata": {},
     "outputs": [],
     "prompt_number": 73
    },
    {
     "cell_type": "markdown",
     "metadata": {},
     "source": [
      "#### Configuring plot for nice display"
     ]
    },
    {
     "cell_type": "code",
     "collapsed": false,
     "input": [
      "fig_width_pt = 420.0  # Get this from LaTeX using \\showthe\\columnwidth\n",
      "inches_per_pt = 1.0 / 72.27  # Convert pt to inch\n",
      "golden_mean = (np.sqrt(5) - 1.0) / 2.0  # Aesthetic ratio\n",
      "fig_width = fig_width_pt * inches_per_pt  # width in inches\n",
      "fig_height = fig_width  # *golden_mean      # height in inches\n",
      "fig_size = [fig_width, fig_height]\n",
      "\n",
      "params = {'backend': 'ps',\n",
      "          'axes.labelsize': 25,\n",
      "          'text.fontsize': 32,\n",
      "          'legend.fontsize': 18,\n",
      "          'xtick.labelsize': 20,\n",
      "          'ytick.labelsize': 20,\n",
      "          'text.usetex': False,\n",
      "          'figure.figsize': fig_size}\n",
      "pl.rcParams.update(params)"
     ],
     "language": "python",
     "metadata": {},
     "outputs": [],
     "prompt_number": 132
    },
    {
     "cell_type": "markdown",
     "metadata": {},
     "source": [
      "#### Some useful time boundaries"
     ]
    },
    {
     "cell_type": "code",
     "collapsed": false,
     "input": [
      "time_boundaries = ['2014-05-31 00:00:00','2014-12-31 00:00:00']\n",
      "timestamp_boundaries = [datetime.strptime(dt,\"%Y-%m-%d %H:%M:%S\") for dt in time_boundaries]\n",
      "astroweek = ['2014-09-15 00:00:00','2014-09-20 00:00:00']\n",
      "timestamp_astroweek = [datetime.strptime(dt,\"%Y-%m-%d %H:%M:%S\") for dt in astroweek]\n",
      "\n",
      "arbitrary_tBoundaries = ['2014-03-01 00:00:00','2014-12-31 00:00:00']\n",
      "timestamp_atB = [datetime.strptime(dt,\"%Y-%m-%d %H:%M:%S\") for dt in arbitrary_tBoundaries]"
     ],
     "language": "python",
     "metadata": {},
     "outputs": [],
     "prompt_number": 121
    },
    {
     "cell_type": "markdown",
     "metadata": {},
     "source": [
      "#### Some functions useful here"
     ]
    },
    {
     "cell_type": "code",
     "collapsed": false,
     "input": [
      "def prepareUserDf():\n",
      "    dicCreatedAt = json.loads(open(dir + \"dicCreatedAt.json\",'rb').read())\n",
      "    user_dic = {}\n",
      "    for u in dicCreatedAt.keys():\n",
      "        #print u,dicCreatedAt[u],len(df[(df['actor']==u) & (df['timestamp'] < timestamp_astroweek[0])])    \n",
      "        user_dic[u] = {\"created_at\" : datetime.strptime(dicCreatedAt[u],\"%Y-%m-%dT%H:%M:%SZ\"),\n",
      "                       \"event_count_before\" : len(df[(df['actor']==u) & (df['timestamp'] < timestamp_astroweek[0])]),\n",
      "                       \"event_count_during\" : len(df[(df['actor']==u) & (df['timestamp'] >= timestamp_astroweek[0]) & (df['timestamp'] < timestamp_astroweek[1])]),\n",
      "                       \"event_count_after\" : len(df[(df['actor']==u) & (df['timestamp'] >= timestamp_astroweek[1])])\n",
      "                       }    \n",
      "    \n",
      "    user_df = pandas.DataFrame.from_dict(user_dic,orient='index').sort(columns=[\"event_count_before\"],ascending=False)\n",
      "    return user_df\n",
      "\n",
      "from datetime import datetime"
     ],
     "language": "python",
     "metadata": {},
     "outputs": [],
     "prompt_number": 124
    },
    {
     "cell_type": "code",
     "collapsed": false,
     "input": [
      "def rankorder(x):\n",
      "    x1 = np.sort(x)[::-1]\n",
      "    y1 = np.arange(1,len(x1)+1)\n",
      "    return x1,y1"
     ],
     "language": "python",
     "metadata": {},
     "outputs": [],
     "prompt_number": 2
    },
    {
     "cell_type": "code",
     "collapsed": false,
     "input": [
      "def countUnique(array):\n",
      "    return len(set(array))"
     ],
     "language": "python",
     "metadata": {},
     "outputs": [],
     "prompt_number": 3
    },
    {
     "cell_type": "markdown",
     "metadata": {},
     "source": [
      "### 2. Building The Dataframe\n",
      "Pandas dataframe contains all timestamped events related to users identified as having taken part to AstroWeek 2014. Repositories related to events are also provided"
     ]
    },
    {
     "cell_type": "code",
     "collapsed": false,
     "input": [
      "#Parse .csv files and create a timestamp column to merge 2014 and 2015 datasets\n",
      "df2014 = pandas.io.parsers.read_csv(dir+\"events_2014.csv\")\n",
      "df2014['timestamp'] = np.array([datetime.strptime(dt,\"%Y-%m-%d %H:%M:%S\") for dt in df2014['created_at']])\n",
      "\n",
      "df2014.rename(columns={'actor_attributes_login':'actor'}, inplace=True)\n",
      "df2014.rename(columns={'repository_name':'repo'}, inplace=True)\n",
      "\n",
      "df2015 = pandas.io.parsers.read_csv(dir+\"events_2015.csv\")\n",
      "df2015['timestamp'] = map(datetime.fromtimestamp,df2015['created_at'])\n",
      "\n",
      "df2015.rename(columns={'actor_login':'actor'}, inplace=True)\n",
      "df2015.rename(columns={'repo_name':'repo'}, inplace=True)\n",
      "\n",
      "df = pandas.concat([df2014,df2015])\n",
      "df.index = df['timestamp']\n",
      "\n",
      "\n",
      "\n",
      "t_resol = '1D'\n",
      "width = 1\n",
      "resampled = {'events' : df.type.resample(t_resol,how='count'),\n",
      "             'actors' : df.actor.resample(t_resol,how=countUnique),\n",
      "            'repos' : df.repo.resample(t_resol,how=countUnique)}"
     ],
     "language": "python",
     "metadata": {},
     "outputs": [],
     "prompt_number": 24
    },
    {
     "cell_type": "markdown",
     "metadata": {},
     "source": [
      "### 3. Timeline Of Events\n",
      "Timeline showing most of 2014, with count of events, repo touched and active users, on a daily basis (one-day bins). The yellow area highlights the AstroWeek2014."
     ]
    },
    {
     "cell_type": "code",
     "collapsed": false,
     "input": [
      "graph_param = {\"events\" : {\"color\": \"blue\"}, \n",
      "                \"actors\": {\"color\": \"red\"},\n",
      "                \"repos\" : {\"color\": \"green\"}\n",
      "                }\n",
      "\n",
      "pl.figure(1,(15,10))\n",
      "#show the region corresponding to astroweek\n",
      "pl.bar(timestamp_astroweek[0],max(resampled['events'].values),width=5,color=\"yellow\",alpha=0.5)\n",
      "\n",
      "for k in [\"events\",\"actors\",\"repos\"]:\n",
      "    pl.bar(resampled[k].index,resampled[k].values,width=width,color=graph_param[k]['color'],alpha=0.5)\n",
      "\n",
      "pl.xlim(timestamp_atB)\n",
      "pl.ylim(ymax=max(resampled['events'].values))\n",
      "pl.xlabel(\"Timeline [days]\")\n",
      "pl.ylabel(\"Count of Events every %s\"%t_resol)"
     ],
     "language": "python",
     "metadata": {},
     "outputs": [
      {
       "metadata": {},
       "output_type": "pyout",
       "prompt_number": 25,
       "text": [
        "<matplotlib.text.Text at 0x1fee9610>"
       ]
      },
      {
       "metadata": {},
       "output_type": "display_data",
       "png": "[encoded data removed]",
       "text": [
        "<matplotlib.figure.Figure at 0x221e30d0>"
       ]
      }
     ],
     "prompt_number": 25
    },
    {
     "cell_type": "markdown",
     "metadata": {},
     "source": [
      "#### Some Preliminary Conclusions From Timeline Plot:\n",
      "- we see a clear change of regime for repos and actors, right at the beginning of the astro week\n",
      "- however, there is no much change on the number of events [dominated by push/pullrequest events (to be checked)]\n",
      "- It looks like there is a relaxation after the astroweek (endogenous critical regime?)\n",
      "- at least, it looks like the avrage activity (repos touched, active actors) is on average higher after the astroweek\n",
      "- there is no big surprise to see a jump of activity during the astro week, but it's more surprising that activity remains more sustained after the astro week"
     ]
    },
    {
     "cell_type": "markdown",
     "metadata": {},
     "source": [
      "#### To do:\n",
      "- try to fit the relaxation with a power law?\n",
      "- track event types along the relaxation\n",
      "- look at event types at the peak\n",
      "- filter for repos, which are directly connected to the astroweek\n",
      "- distribution of events per actor\n",
      "\n",
      "#### Focus on events along AstroWeek\n",
      "- creation of accounts\n",
      "- creation of repos\n",
      "- forks\n",
      "- pushes / pullrequests\n",
      "- spillovers from astro week repos to pull requests to new repos\n",
      "- ratio of events triggered from seasoned actors vs. new actors (definition of seasoned actor needed: "
     ]
    },
    {
     "cell_type": "markdown",
     "metadata": {},
     "source": [
      "### 4. Contribution Activity\n",
      "Numnber of events per actor before and after the starting of AstroWeek2014"
     ]
    },
    {
     "cell_type": "code",
     "collapsed": false,
     "input": [
      "user_df = prepareUserDf()"
     ],
     "language": "python",
     "metadata": {},
     "outputs": [],
     "prompt_number": 123
    },
    {
     "cell_type": "markdown",
     "metadata": {},
     "source": [
      "#### Distribution of Contributions\n",
      "for the following periods : **before**, **during** and **after** AstroWeek 2014."
     ]
    },
    {
     "cell_type": "code",
     "collapsed": false,
     "input": [
      "pl.figure(1,(10,9))\n",
      "periods = ['event_count_before','event_count_during','event_count_after']\n",
      "for p in periods:\n",
      "    data = user_df[p].values\n",
      "    x,y = rankorder(data)\n",
      "    pl.loglog(x,y,'o-',label=p)\n",
      "\n",
      "pl.legend(periods,loc=0)\n",
      "pl.xlabel(\"Count Events\")\n",
      "pl.ylabel(\"Rank-Ordering / un-normed CCDF\")"
     ],
     "language": "python",
     "metadata": {},
     "outputs": [
      {
       "metadata": {},
       "output_type": "pyout",
       "prompt_number": 134,
       "text": [
        "<matplotlib.text.Text at 0x2a41ef10>"
       ]
      },
      {
       "metadata": {},
       "output_type": "display_data",
       "png": "[encoded data removed]",
       "text": [
        "<matplotlib.figure.Figure at 0x26340dd0>"
       ]
      }
     ],
     "prompt_number": 134
    },
    {
     "cell_type": "code",
     "collapsed": false,
     "input": [
      "user_df"
     ],
     "language": "python",
     "metadata": {},
     "outputs": [
      {
       "html": [
        "<div style=\"max-height:1000px;max-width:1500px;overflow:auto;\">\n",
        "<table border=\"1\" class=\"dataframe\">\n",
        "  <thead>\n",
        "    <tr style=\"text-align: right;\">\n",
        "      <th></th>\n",
        "      <th>created_at</th>\n",
        "      <th>event_count_before</th>\n",
        "      <th>event_count_after</th>\n",
        "      <th>event_count_during</th>\n",
        "    </tr>\n",
        "  </thead>\n",
        "  <tbody>\n",
        "    <tr>\n",
        "      <th>jakevdp</th>\n",
        "      <td>2011-05-11 14:39:53</td>\n",
        "      <td> 2229</td>\n",
        "      <td> 1542</td>\n",
        "      <td> 34</td>\n",
        "    </tr>\n",
        "    <tr>\n",
        "      <th>adrn</th>\n",
        "      <td>2011-01-25 20:09:24</td>\n",
        "      <td> 1000</td>\n",
        "      <td>  790</td>\n",
        "      <td> 31</td>\n",
        "    </tr>\n",
        "    <tr>\n",
        "      <th>drphilmarshall</th>\n",
        "      <td>2011-04-05 14:47:49</td>\n",
        "      <td>  802</td>\n",
        "      <td> 1307</td>\n",
        "      <td> 59</td>\n",
        "    </tr>\n",
        "    <tr>\n",
        "      <th>davidwhogg</th>\n",
        "      <td>2011-04-05 13:35:06</td>\n",
        "      <td>  771</td>\n",
        "      <td>  610</td>\n",
        "      <td>  5</td>\n",
        "    </tr>\n",
        "    <tr>\n",
        "      <th>kbarbary</th>\n",
        "      <td>2011-08-09 23:11:05</td>\n",
        "      <td>  529</td>\n",
        "      <td>  912</td>\n",
        "      <td> 26</td>\n",
        "    </tr>\n",
        "    <tr>\n",
        "      <th>RuthAngus</th>\n",
        "      <td>2012-11-19 11:44:59</td>\n",
        "      <td>  514</td>\n",
        "      <td>  494</td>\n",
        "      <td>  8</td>\n",
        "    </tr>\n",
        "    <tr>\n",
        "      <th>jonathansick</th>\n",
        "      <td>2010-07-30 15:28:12</td>\n",
        "      <td>  485</td>\n",
        "      <td>  541</td>\n",
        "      <td>  9</td>\n",
        "    </tr>\n",
        "    <tr>\n",
        "      <th>fperez</th>\n",
        "      <td>2009-02-24 08:06:12</td>\n",
        "      <td>  381</td>\n",
        "      <td>  307</td>\n",
        "      <td> 23</td>\n",
        "    </tr>\n",
        "    <tr>\n",
        "      <th>kapadia</th>\n",
        "      <td>2011-01-24 18:59:05</td>\n",
        "      <td>  315</td>\n",
        "      <td>  366</td>\n",
        "      <td>  7</td>\n",
        "    </tr>\n",
        "    <tr>\n",
        "      <th>gully</th>\n",
        "      <td>2011-06-19 18:51:18</td>\n",
        "      <td>  259</td>\n",
        "      <td>  250</td>\n",
        "      <td>  8</td>\n",
        "    </tr>\n",
        "    <tr>\n",
        "      <th>jradavenport</th>\n",
        "      <td>2013-01-03 19:31:55</td>\n",
        "      <td>  222</td>\n",
        "      <td>  532</td>\n",
        "      <td> 28</td>\n",
        "    </tr>\n",
        "    <tr>\n",
        "      <th>nhuntwalker</th>\n",
        "      <td>2013-10-01 02:56:52</td>\n",
        "      <td>   73</td>\n",
        "      <td>   35</td>\n",
        "      <td>  5</td>\n",
        "    </tr>\n",
        "    <tr>\n",
        "      <th>karenyyng</th>\n",
        "      <td>2013-02-13 19:51:43</td>\n",
        "      <td>   55</td>\n",
        "      <td>  228</td>\n",
        "      <td>  7</td>\n",
        "    </tr>\n",
        "    <tr>\n",
        "      <th>rbiswas4</th>\n",
        "      <td>2012-09-05 00:28:42</td>\n",
        "      <td>   52</td>\n",
        "      <td>  454</td>\n",
        "      <td>  2</td>\n",
        "    </tr>\n",
        "    <tr>\n",
        "      <th>bareid</th>\n",
        "      <td>2013-05-07 13:57:48</td>\n",
        "      <td>   36</td>\n",
        "      <td>   75</td>\n",
        "      <td>  5</td>\n",
        "    </tr>\n",
        "    <tr>\n",
        "      <th>ivezic</th>\n",
        "      <td>2011-10-10 18:17:11</td>\n",
        "      <td>   31</td>\n",
        "      <td>  136</td>\n",
        "      <td>  0</td>\n",
        "    </tr>\n",
        "    <tr>\n",
        "      <th>ryanmaas</th>\n",
        "      <td>2012-11-13 01:16:28</td>\n",
        "      <td>   19</td>\n",
        "      <td>   91</td>\n",
        "      <td>  0</td>\n",
        "    </tr>\n",
        "    <tr>\n",
        "      <th>yoachim</th>\n",
        "      <td>2013-02-22 21:53:20</td>\n",
        "      <td>   19</td>\n",
        "      <td>  109</td>\n",
        "      <td>  7</td>\n",
        "    </tr>\n",
        "    <tr>\n",
        "      <th>jmankin</th>\n",
        "      <td>2013-06-11 20:49:33</td>\n",
        "      <td>   18</td>\n",
        "      <td>   12</td>\n",
        "      <td>  7</td>\n",
        "    </tr>\n",
        "    <tr>\n",
        "      <th>ogtelford</th>\n",
        "      <td>2013-09-20 20:14:11</td>\n",
        "      <td>   17</td>\n",
        "      <td>  115</td>\n",
        "      <td>  5</td>\n",
        "    </tr>\n",
        "    <tr>\n",
        "      <th>profjsb</th>\n",
        "      <td>2010-11-14 06:05:52</td>\n",
        "      <td>   15</td>\n",
        "      <td>   10</td>\n",
        "      <td>  3</td>\n",
        "    </tr>\n",
        "    <tr>\n",
        "      <th>dhuppenkothen</th>\n",
        "      <td>2013-08-15 13:18:08</td>\n",
        "      <td>   15</td>\n",
        "      <td>   79</td>\n",
        "      <td> 18</td>\n",
        "    </tr>\n",
        "    <tr>\n",
        "      <th>rhiannonlynne</th>\n",
        "      <td>2012-06-16 01:40:08</td>\n",
        "      <td>    8</td>\n",
        "      <td>  226</td>\n",
        "      <td>  7</td>\n",
        "    </tr>\n",
        "    <tr>\n",
        "      <th>Waelthus</th>\n",
        "      <td>2012-12-11 03:13:40</td>\n",
        "      <td>    5</td>\n",
        "      <td>    1</td>\n",
        "      <td> 10</td>\n",
        "    </tr>\n",
        "    <tr>\n",
        "      <th>wilmatrick</th>\n",
        "      <td>2014-01-03 13:23:28</td>\n",
        "      <td>    3</td>\n",
        "      <td>   49</td>\n",
        "      <td>  3</td>\n",
        "    </tr>\n",
        "    <tr>\n",
        "      <th>yalsayyad</th>\n",
        "      <td>2012-12-13 22:14:21</td>\n",
        "      <td>    2</td>\n",
        "      <td>   62</td>\n",
        "      <td>  1</td>\n",
        "    </tr>\n",
        "    <tr>\n",
        "      <th>nell-byler</th>\n",
        "      <td>2012-10-19 17:43:14</td>\n",
        "      <td>    2</td>\n",
        "      <td>    0</td>\n",
        "      <td>  5</td>\n",
        "    </tr>\n",
        "    <tr>\n",
        "      <th>patti</th>\n",
        "      <td>2013-07-08 22:34:20</td>\n",
        "      <td>    0</td>\n",
        "      <td>  123</td>\n",
        "      <td>  0</td>\n",
        "    </tr>\n",
        "    <tr>\n",
        "      <th>lvrzhn</th>\n",
        "      <td>2014-09-10 16:53:11</td>\n",
        "      <td>    0</td>\n",
        "      <td>    2</td>\n",
        "      <td>  7</td>\n",
        "    </tr>\n",
        "    <tr>\n",
        "      <th>sofiatti</th>\n",
        "      <td>2012-10-18 17:36:19</td>\n",
        "      <td>    0</td>\n",
        "      <td>  276</td>\n",
        "      <td> 16</td>\n",
        "    </tr>\n",
        "  </tbody>\n",
        "</table>\n",
        "</div>"
       ],
       "metadata": {},
       "output_type": "pyout",
       "prompt_number": 137,
       "text": [
        "                        created_at  event_count_before  event_count_after  \\\n",
        "jakevdp        2011-05-11 14:39:53                2229               1542   \n",
        "adrn           2011-01-25 20:09:24                1000                790   \n",
        "drphilmarshall 2011-04-05 14:47:49                 802               1307   \n",
        "davidwhogg     2011-04-05 13:35:06                 771                610   \n",
        "kbarbary       2011-08-09 23:11:05                 529                912   \n",
        "RuthAngus      2012-11-19 11:44:59                 514                494   \n",
        "jonathansick   2010-07-30 15:28:12                 485                541   \n",
        "fperez         2009-02-24 08:06:12                 381                307   \n",
        "kapadia        2011-01-24 18:59:05                 315                366   \n",
        "gully          2011-06-19 18:51:18                 259                250   \n",
        "jradavenport   2013-01-03 19:31:55                 222                532   \n",
        "nhuntwalker    2013-10-01 02:56:52                  73                 35   \n",
        "karenyyng      2013-02-13 19:51:43                  55                228   \n",
        "rbiswas4       2012-09-05 00:28:42                  52                454   \n",
        "bareid         2013-05-07 13:57:48                  36                 75   \n",
        "ivezic         2011-10-10 18:17:11                  31                136   \n",
        "ryanmaas       2012-11-13 01:16:28                  19                 91   \n",
        "yoachim        2013-02-22 21:53:20                  19                109   \n",
        "jmankin        2013-06-11 20:49:33                  18                 12   \n",
        "ogtelford      2013-09-20 20:14:11                  17                115   \n",
        "profjsb        2010-11-14 06:05:52                  15                 10   \n",
        "dhuppenkothen  2013-08-15 13:18:08                  15                 79   \n",
        "rhiannonlynne  2012-06-16 01:40:08                   8                226   \n",
        "Waelthus       2012-12-11 03:13:40                   5                  1   \n",
        "wilmatrick     2014-01-03 13:23:28                   3                 49   \n",
        "yalsayyad      2012-12-13 22:14:21                   2                 62   \n",
        "nell-byler     2012-10-19 17:43:14                   2                  0   \n",
        "patti          2013-07-08 22:34:20                   0                123   \n",
        "lvrzhn         2014-09-10 16:53:11                   0                  2   \n",
        "sofiatti       2012-10-18 17:36:19                   0                276   \n",
        "\n",
        "                event_count_during  \n",
        "jakevdp                         34  \n",
        "adrn                            31  \n",
        "drphilmarshall                  59  \n",
        "davidwhogg                       5  \n",
        "kbarbary                        26  \n",
        "RuthAngus                        8  \n",
        "jonathansick                     9  \n",
        "fperez                          23  \n",
        "kapadia                          7  \n",
        "gully                            8  \n",
        "jradavenport                    28  \n",
        "nhuntwalker                      5  \n",
        "karenyyng                        7  \n",
        "rbiswas4                         2  \n",
        "bareid                           5  \n",
        "ivezic                           0  \n",
        "ryanmaas                         0  \n",
        "yoachim                          7  \n",
        "jmankin                          7  \n",
        "ogtelford                        5  \n",
        "profjsb                          3  \n",
        "dhuppenkothen                   18  \n",
        "rhiannonlynne                    7  \n",
        "Waelthus                        10  \n",
        "wilmatrick                       3  \n",
        "yalsayyad                        1  \n",
        "nell-byler                       5  \n",
        "patti                            0  \n",
        "lvrzhn                           7  \n",
        "sofiatti                        16  "
       ]
      }
     ],
     "prompt_number": 137
    },
    {
     "cell_type": "code",
     "collapsed": false,
     "input": [
      "user_df['event_count_during'].sum()"
     ],
     "language": "python",
     "metadata": {},
     "outputs": [
      {
       "metadata": {},
       "output_type": "pyout",
       "prompt_number": 138,
       "text": [
        "346"
       ]
      }
     ],
     "prompt_number": 138
    },
    {
     "cell_type": "markdown",
     "metadata": {},
     "source": [
      "#### Some Preliminary Conclusions Contribution Activity\n",
      "- Astroweek has little long-term impact on high-profile contributors\n",
      "- However, Astroweek gives a push to a number of \"average\" contributors (\"average\" shall be better defined)\n",
      "- Distribution of contributions during the week looks very much like a power law with exponent slightler > 1\n",
      "\n",
      "#### Open questions:\n",
      "- What are the astroweek repos?\n",
      "- amount contributed for \"astroweek\" repos vs. other repos. How this dichotomy is spread between new,\"average\" and high profile contributors (the guess is that high-profile contributors do their work as usual, plus a little more for AstroWeek)\n",
      "- type of events during astroweek. Is anything different from all other weeks?\n"
     ]
    },
    {
     "cell_type": "code",
     "collapsed": false,
     "input": [],
     "language": "python",
     "metadata": {},
     "outputs": []
    }
   ],
   "metadata": {}
  }
 ]
}