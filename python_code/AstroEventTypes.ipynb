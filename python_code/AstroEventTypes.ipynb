{
 "metadata": {
  "name": "",
  "signature": "sha256:0c397157e7ad1686744c42330c980098f3613f06c6aa30c7900e659cf544c8a8"
 },
 "nbformat": 3,
 "nbformat_minor": 0,
 "worksheets": [
  {
   "cells": [
    {
     "cell_type": "code",
     "collapsed": false,
     "input": [
      "####Load Modules & Build DataFrames\n",
      "project_dir = \"/home/ubuntu/github/AstroWeekStudy/python_code/\"\n",
      "\n",
      "import sys\n",
      "sys.path.append(\"/home/ubuntu/github/AstroWeekStudy/python_code/\")\n",
      "\n",
      "try:\n",
      "    reload(loadData)\n",
      "    reload(astroWeekLib)\n",
      "except:\n",
      "    import loadData\n",
      "    import astroWeekLib\n",
      "    \n",
      "from loadData import *\n",
      "from astroWeekLib import *\n",
      "\n",
      "\n",
      "df,df2014,df2015,resampled = build_main_df()\n",
      "df_users_created = prepareUserDf(df)\n",
      "df_repos_created = build_df_repos_created(df2014)\n",
      "\n",
      "event_types = df['type'].unique\n",
      "astro_dt = [255]"
     ],
     "language": "python",
     "metadata": {},
     "outputs": [
      {
       "output_type": "stream",
       "stream": "stdout",
       "text": [
        "CommitCommentEvent 489\n",
        "CreateEvent"
       ]
      },
      {
       "output_type": "stream",
       "stream": "stdout",
       "text": [
        " 489\n",
        "DeleteEvent"
       ]
      },
      {
       "output_type": "stream",
       "stream": "stdout",
       "text": [
        " 489\n",
        "ForkEvent"
       ]
      },
      {
       "output_type": "stream",
       "stream": "stdout",
       "text": [
        " 489\n",
        "GollumEvent"
       ]
      },
      {
       "output_type": "stream",
       "stream": "stdout",
       "text": [
        " 489\n",
        "IssueCommentEvent"
       ]
      },
      {
       "output_type": "stream",
       "stream": "stdout",
       "text": [
        " 489\n",
        "IssuesEvent"
       ]
      },
      {
       "output_type": "stream",
       "stream": "stdout",
       "text": [
        " 489\n",
        "MemberEvent"
       ]
      },
      {
       "output_type": "stream",
       "stream": "stdout",
       "text": [
        " 489\n",
        "PublicEvent"
       ]
      },
      {
       "output_type": "stream",
       "stream": "stdout",
       "text": [
        " 489\n",
        "PullRequestEvent"
       ]
      },
      {
       "output_type": "stream",
       "stream": "stdout",
       "text": [
        " 489\n",
        "PullRequestReviewCommentEvent"
       ]
      },
      {
       "output_type": "stream",
       "stream": "stdout",
       "text": [
        " 489\n",
        "PushEvent"
       ]
      },
      {
       "output_type": "stream",
       "stream": "stdout",
       "text": [
        " 489\n",
        "ReleaseEvent"
       ]
      },
      {
       "output_type": "stream",
       "stream": "stdout",
       "text": [
        " 489\n",
        "WatchEvent"
       ]
      },
      {
       "output_type": "stream",
       "stream": "stdout",
       "text": [
        " 489\n"
       ]
      }
     ],
     "prompt_number": 192
    },
    {
     "cell_type": "code",
     "collapsed": false,
     "input": [
      "event_types = np.unique(df.type.values)\n",
      "event_types_short = ['CreateEvent','PushEvent','PullRequestEvent','CommitCommentEvent','IssuesEvent','IssueCommentEvent','ForkEvent','WatchEvent']\n",
      "color = ['yellow','cyan','green','lime','red','tpink','black','goldenrod']"
     ],
     "language": "python",
     "metadata": {},
     "outputs": [],
     "prompt_number": 204
    },
    {
     "cell_type": "code",
     "collapsed": false,
     "input": [
      "for i,e in enumerate(event_types):\n",
      "    s = resampled['event_types'][e].sum()\n",
      "    print i,e,s, len(resampled['event_types'][e])"
     ],
     "language": "python",
     "metadata": {},
     "outputs": [
      {
       "output_type": "stream",
       "stream": "stdout",
       "text": [
        "0 CommitCommentEvent 503 489\n",
        "1 CreateEvent 1130 489\n",
        "2 DeleteEvent 117 489\n",
        "3 ForkEvent 526 489\n",
        "4 GollumEvent 507 489\n",
        "5 IssueCommentEvent 4159 489\n",
        "6 IssuesEvent 1787 489\n",
        "7 MemberEvent 104 489\n",
        "8 PublicEvent 19 489\n",
        "9 PullRequestEvent 1041 489\n",
        "10 PullRequestReviewCommentEvent 261 489\n",
        "11 PushEvent 8638 489\n",
        "12 ReleaseEvent 44 489\n",
        "13 WatchEvent 706 489\n"
       ]
      }
     ],
     "prompt_number": 202
    },
    {
     "cell_type": "code",
     "collapsed": false,
     "input": [
      "pl.figure(1,(17,10))\n",
      "y_old = np.zeros_like(resampled['event_types']['PushEvent'].values)\n",
      "x = np.arange(len(y_old))\n",
      "\n",
      "countAllEvents = np.array(map(float,resampled['event_types']['all'].values))\n",
      "\n",
      "\n",
      "ratio = False\n",
      "\n",
      "for i,e in enumerate(event_types_short):\n",
      "    print i,e\n",
      "    if ratio:\n",
      "        y = resampled['event_types'][e].values / countAllEvents\n",
      "        pl.bar(x,y,width=1,bottom=y_old,lw=0.1,color=color[i],label=e)\n",
      "        y_old = y_old + y\n",
      "        pl.ylim(ymax=2)\n",
      "    else:\n",
      "        y = resampled['event_types'][e].values\n",
      "        y[y < 1] = 1\n",
      "        ly = np.log10(y)\n",
      "        pl.bar(x,ly,width=1,bottom=y_old,lw=0.1,color=color[i],label=e)\n",
      "        y_old = y_old + ly\n",
      "        pl.ylim(ymax=10)\n",
      "\n",
      "y = resampled['event_types']['all'].values\n",
      "y = (y)/np.std(y)\n",
      "#pl.plot(x,y,label=\"all\")\n",
      "pl.xlim(astro_dt[0],366)\n",
      "#pl.legend([\"all\"] + event_types_short ,loc=0)\n",
      "pl.legend(event_types_short ,loc=0)\n",
      "pl.ylabel(\"log10(Count Events)\")\n",
      "pl.xlabel(\"Time [days since Jan. 1, 2014]\")"
     ],
     "language": "python",
     "metadata": {},
     "outputs": [
      {
       "output_type": "stream",
       "stream": "stdout",
       "text": [
        "0 CreateEvent\n",
        "1"
       ]
      },
      {
       "output_type": "stream",
       "stream": "stdout",
       "text": [
        " PushEvent\n",
        "2"
       ]
      },
      {
       "output_type": "stream",
       "stream": "stdout",
       "text": [
        " PullRequestEvent\n",
        "3"
       ]
      }
     ]
    },
    {
     "cell_type": "code",
     "collapsed": false,
     "input": [],
     "language": "python",
     "metadata": {},
     "outputs": []
    }
   ],
   "metadata": {}
  }
 ]
}