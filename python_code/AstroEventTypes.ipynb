{
 "metadata": {
  "name": "",
  "signature": "sha256:dd91da79fea6fbb699f7cd30c67910928b9915d47a6302b1620b54ebe6bca927"
 },
 "nbformat": 3,
 "nbformat_minor": 0,
 "worksheets": [
  {
   "cells": [
    {
     "cell_type": "code",
     "collapsed": false,
     "input": [
      "####Load Modules & Build DataFrames\n",
      "project_dir = \"/home/ubuntu/github/AstroWeekStudy/python_code/\"\n",
      "\n",
      "import sys\n",
      "sys.path.append(\"/home/ubuntu/github/AstroWeekStudy/python_code/\")\n",
      "\n",
      "try:\n",
      "    reload(loadData)\n",
      "    reload(astroWeekLib)\n",
      "except:\n",
      "    import loadData\n",
      "    import astroWeekLib\n",
      "    \n",
      "from loadData import *\n",
      "from astroWeekLib import *\n",
      "\n",
      "\n",
      "df,df2014,df2015,resampled = build_main_df()\n",
      "df_users_created = prepareUserDf(df)\n",
      "df_repos_created = build_df_repos_created(df2014)\n",
      "\n",
      "event_types = df['type'].unique\n",
      "astro_dt = [255]"
     ],
     "language": "python",
     "metadata": {},
     "outputs": [],
     "prompt_number": 1
    },
    {
     "cell_type": "code",
     "collapsed": false,
     "input": [],
     "language": "python",
     "metadata": {},
     "outputs": [],
     "prompt_number": 3
    },
    {
     "cell_type": "code",
     "collapsed": false,
     "input": [
      "#for i,e in enumerate(event_types):\n",
      "#    s = resampled['event_types'][e].sum()\n",
      "#    print i,e,s, len(resampled['event_types'][e])"
     ],
     "language": "python",
     "metadata": {},
     "outputs": [],
     "prompt_number": 6
    },
    {
     "cell_type": "code",
     "collapsed": false,
     "input": [
      "event_types = np.unique(df.type.values)\n",
      "event_types_short = ['CreateEvent','PushEvent','PullRequestEvent','CommitCommentEvent','IssuesEvent','IssueCommentEvent','ForkEvent','WatchEvent']\n",
      "color = ['yellow','cyan','green','lime','red','pink','black','goldenrod']\n",
      "\n",
      "pl.figure(1,(15,6))\n",
      "y_old = np.zeros_like(resampled['event_types']['PushEvent'].values)\n",
      "x = np.arange(len(y_old))\n",
      "\n",
      "countAllEvents = np.array(map(float,resampled['event_types']['all'].values))\n",
      "\n",
      "\n",
      "ratio = False\n",
      "\n",
      "for i,e in enumerate(event_types_short):\n",
      "    print i,e\n",
      "    if ratio:\n",
      "        y = resampled['event_types'][e].values / countAllEvents\n",
      "        pl.bar(x,y,width=1,bottom=y_old,lw=0.1,color=color[i],label=e)\n",
      "        y_old = y_old + y\n",
      "        pl.ylim(ymax=2)\n",
      "    else:\n",
      "        y = resampled['event_types'][e].values\n",
      "        y[y < 1] = 1\n",
      "        ly = np.log10(y)\n",
      "        pl.bar(x,ly,width=1,bottom=y_old,lw=0.1,color=color[i],label=e)\n",
      "        y_old = y_old + ly\n",
      "        pl.ylim(ymax=10)\n",
      "\n",
      "y = resampled['event_types']['all'].values\n",
      "y = (y)/np.std(y)\n",
      "#pl.plot(x,y,label=\"all\")\n",
      "pl.xlim(astro_dt[0]-100,366)\n",
      "pl.ylim(ymax=8)\n",
      "#pl.legend([\"all\"] + event_types_short ,loc=0)\n",
      "pl.legend(event_types_short ,loc=0)\n",
      "pl.ylabel(\"log10(Count Events)\")\n",
      "pl.xlabel(\"Time [days since Jan. 1, 2014]\")"
     ],
     "language": "python",
     "metadata": {},
     "outputs": [
      {
       "output_type": "stream",
       "stream": "stdout",
       "text": [
        "0 CreateEvent\n",
        "1"
       ]
      },
      {
       "output_type": "stream",
       "stream": "stdout",
       "text": [
        " PushEvent\n",
        "2"
       ]
      },
      {
       "output_type": "stream",
       "stream": "stdout",
       "text": [
        " PullRequestEvent\n",
        "3"
       ]
      },
      {
       "output_type": "stream",
       "stream": "stdout",
       "text": [
        " CommitCommentEvent\n",
        "4"
       ]
      },
      {
       "output_type": "stream",
       "stream": "stdout",
       "text": [
        " IssuesEvent\n",
        "5"
       ]
      },
      {
       "output_type": "stream",
       "stream": "stdout",
       "text": [
        " IssueCommentEvent\n",
        "6"
       ]
      },
      {
       "output_type": "stream",
       "stream": "stdout",
       "text": [
        " ForkEvent\n",
        "7"
       ]
      },
      {
       "output_type": "stream",
       "stream": "stdout",
       "text": [
        " WatchEvent\n"
       ]
      },
      {
       "metadata": {},
       "output_type": "pyout",
       "prompt_number": 7,
       "text": [
        "<matplotlib.text.Text at 0x959dd50>"
       ]
      },
      {
       "ename": "KeyboardInterrupt",
       "evalue": "",
       "output_type": "pyerr",
       "traceback": [
        "Traceback (most recent call last):\n",
        "  File \"/usr/local/lib/python2.7/dist-packages/IPython/kernel/zmq/ipkernel.py\", line 389, in execute_request\n    shell.run_cell(code, store_history=store_history, silent=silent)\n",
        "  File \"/usr/local/lib/python2.7/dist-packages/IPython/core/interactiveshell.py\", line 2743, in run_cell\n    self.events.trigger('post_execute')\n",
        "  File \"/usr/local/lib/python2.7/dist-packages/IPython/core/events.py\", line 82, in trigger\n    func(*args, **kwargs)\n",
        "  File \"/usr/local/lib/python2.7/dist-packages/IPython/kernel/zmq/pylab/backend_inline.py\", line 118, in flush_figures\n    return show(True)\n",
        "  File \"/usr/local/lib/python2.7/dist-packages/IPython/kernel/zmq/pylab/backend_inline.py\", line 43, in show\n    display(figure_manager.canvas.figure)\n",
        "  File \"/usr/local/lib/python2.7/dist-packages/IPython/core/display.py\", line 131, in display\n    format_dict, md_dict = format(obj, include=include, exclude=exclude)\n",
        "  File \"/usr/local/lib/python2.7/dist-packages/IPython/core/formatters.py\", line 200, in format\n    data = formatter(obj)\n",
        "  File \"<string>\", line 2, in __call__\n",
        "  File \"/usr/local/lib/python2.7/dist-packages/IPython/core/formatters.py\", line 233, in warn_format_error\n    r = method(self, *args, **kwargs)\n",
        "  File \"/usr/local/lib/python2.7/dist-packages/IPython/core/formatters.py\", line 350, in __call__\n    return printer(obj)\n",
        "  File \"/usr/local/lib/python2.7/dist-packages/IPython/core/pylabtools.py\", line 222, in <lambda>\n    png_formatter.for_type(Figure, lambda fig: print_figure(fig, 'png', **kwargs))\n",
        "  File \"/usr/local/lib/python2.7/dist-packages/IPython/core/pylabtools.py\", line 132, in print_figure\n    fig.canvas.print_figure(bytes_io, **kw)\n",
        "  File \"/usr/lib/pymodules/python2.7/matplotlib/backend_bases.py\", line 2021, in print_figure\n    **kwargs)\n",
        "  File \"/usr/lib/pymodules/python2.7/matplotlib/backends/backend_agg.py\", line 469, in print_png\n    FigureCanvasAgg.draw(self)\n",
        "  File \"/usr/lib/pymodules/python2.7/matplotlib/backends/backend_agg.py\", line 421, in draw\n    self.figure.draw(self.renderer)\n",
        "  File \"/usr/lib/pymodules/python2.7/matplotlib/artist.py\", line 55, in draw_wrapper\n    draw(artist, renderer, *args, **kwargs)\n",
        "  File \"/usr/lib/pymodules/python2.7/matplotlib/figure.py\", line 898, in draw\n    func(*args)\n",
        "  File \"/usr/lib/pymodules/python2.7/matplotlib/artist.py\", line 55, in draw_wrapper\n    draw(artist, renderer, *args, **kwargs)\n",
        "  File \"/usr/lib/pymodules/python2.7/matplotlib/axes.py\", line 1997, in draw\n    a.draw(renderer)\n",
        "  File \"/usr/lib/pymodules/python2.7/matplotlib/artist.py\", line 55, in draw_wrapper\n    draw(artist, renderer, *args, **kwargs)\n",
        "  File \"/usr/lib/pymodules/python2.7/matplotlib/patches.py\", line 405, in draw\n    transform = self.get_transform()\n",
        "  File \"/usr/lib/pymodules/python2.7/matplotlib/patches.py\", line 167, in get_transform\n    return self.get_patch_transform() + artist.Artist.get_transform(self)\n",
        "  File \"/usr/lib/pymodules/python2.7/matplotlib/patches.py\", line 547, in get_patch_transform\n    self._update_patch_transform()\n",
        "  File \"/usr/lib/pymodules/python2.7/matplotlib/patches.py\", line 542, in _update_patch_transform\n    height = self.convert_yunits(self._height)\n",
        "  File \"/usr/lib/pymodules/python2.7/matplotlib/artist.py\", line 159, in convert_yunits\n    return ax.yaxis.convert_units(y)\n",
        "  File \"/usr/lib/pymodules/python2.7/matplotlib/axis.py\", line 1328, in convert_units\n    self.converter = munits.registry.get_converter(x)\n",
        "  File \"/usr/lib/pymodules/python2.7/matplotlib/units.py\", line 117, in get_converter\n    def get_converter(self, x):\n",
        "KeyboardInterrupt\n"
       ]
      }
     ],
     "prompt_number": 6
    },
    {
     "cell_type": "code",
     "collapsed": false,
     "input": [],
     "language": "python",
     "metadata": {},
     "outputs": []
    }
   ],
   "metadata": {}
  }
 ]
}